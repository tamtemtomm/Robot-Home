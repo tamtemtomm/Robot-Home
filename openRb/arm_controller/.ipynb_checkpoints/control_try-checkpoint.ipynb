{
 "cells": [
  {
   "cell_type": "code",
   "execution_count": 15,
   "id": "fbbbcbb2",
   "metadata": {},
   "outputs": [],
   "source": [
    "import controller\n",
    "import time"
   ]
  },
  {
   "cell_type": "code",
   "execution_count": 16,
   "id": "f0016754",
   "metadata": {},
   "outputs": [
    {
     "name": "stdout",
     "output_type": "stream",
     "text": [
      "0 : COM3 \tStandard Serial over Bluetooth link (COM3)\t BTHENUM\\{00001101-0000-1000-8000-00805F9B34FB}_LOCALMFG&0000\\8&1851824A&0&000000000000_00000000\n",
      "1 : COM4 \tStandard Serial over Bluetooth link (COM4)\t BTHENUM\\{00001101-0000-1000-8000-00805F9B34FB}_LOCALMFG&0046\\8&1851824A&0&B038E239BA1E_C00000000\n",
      "2 : COM7 \tUSB Serial Device (COM7)\t USB VID:PID=2F5D:2202 SER=A5CDA50250555158372E3120FF071339 LOCATION=1-2:x.0\n"
     ]
    }
   ],
   "source": [
    "controller.get_port()"
   ]
  },
  {
   "cell_type": "code",
   "execution_count": 17,
   "id": "f54a6009",
   "metadata": {},
   "outputs": [],
   "source": [
    "arm_rob = controller.ARM_ROBOT(\"COM7\")"
   ]
  },
  {
   "cell_type": "code",
   "execution_count": 18,
   "id": "a0eb8ffa",
   "metadata": {},
   "outputs": [
    {
     "data": {
      "text/plain": [
       "[144.46232220802563, 3.9109638312674377]"
      ]
     },
     "execution_count": 18,
     "metadata": {},
     "output_type": "execute_result"
    }
   ],
   "source": [
    "ik = arm_rob.inverse_kinematics(-140,100,100)\n",
    "ik"
   ]
  },
  {
   "cell_type": "code",
   "execution_count": 20,
   "id": "b43721bf",
   "metadata": {},
   "outputs": [
    {
     "data": {
      "text/plain": [
       "'Success\\r\\n'"
      ]
     },
     "execution_count": 20,
     "metadata": {},
     "output_type": "execute_result"
    }
   ],
   "source": [
    "#290 sampah kiri\n",
    "#120 sampah kanan\n",
    "\n",
    "\n",
    "arm_rob.write(f\"{999},{230}\")\n",
    "time.sleep(1)\n",
    "arm_rob.write(f\"{ik[0]},{ik[1]}\")\n"
   ]
  },
  {
   "cell_type": "code",
   "execution_count": 14,
   "id": "07cd8102",
   "metadata": {},
   "outputs": [],
   "source": [
    "arm_rob.close()"
   ]
  },
  {
   "cell_type": "code",
   "execution_count": null,
   "id": "cc8ddcfb",
   "metadata": {},
   "outputs": [],
   "source": []
  }
 ],
 "metadata": {
  "kernelspec": {
   "display_name": "Python [conda env:pklBrin]",
   "language": "python",
   "name": "conda-env-pklBrin-py"
  },
  "language_info": {
   "codemirror_mode": {
    "name": "ipython",
    "version": 3
   },
   "file_extension": ".py",
   "mimetype": "text/x-python",
   "name": "python",
   "nbconvert_exporter": "python",
   "pygments_lexer": "ipython3",
   "version": "3.10.13"
  }
 },
 "nbformat": 4,
 "nbformat_minor": 5
}
