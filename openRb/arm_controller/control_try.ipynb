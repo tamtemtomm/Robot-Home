{
 "cells": [
  {
   "cell_type": "code",
   "execution_count": 1,
   "id": "fbbbcbb2",
   "metadata": {},
   "outputs": [
    {
     "name": "stdout",
     "output_type": "stream",
     "text": [
      "0 : COM3 \tStandard Serial over Bluetooth link (COM3)\t BTHENUM\\{00001101-0000-1000-8000-00805F9B34FB}_LOCALMFG&0000\\8&1851824A&0&000000000000_00000000\n",
      "1 : COM4 \tStandard Serial over Bluetooth link (COM4)\t BTHENUM\\{00001101-0000-1000-8000-00805F9B34FB}_LOCALMFG&0046\\8&1851824A&0&B038E239BA1E_C00000000\n"
     ]
    }
   ],
   "source": [
    "import controller"
   ]
  },
  {
   "cell_type": "code",
   "execution_count": 2,
   "id": "f0016754",
   "metadata": {},
   "outputs": [
    {
     "name": "stdout",
     "output_type": "stream",
     "text": [
      "0 : COM3 \tStandard Serial over Bluetooth link (COM3)\t BTHENUM\\{00001101-0000-1000-8000-00805F9B34FB}_LOCALMFG&0000\\8&1851824A&0&000000000000_00000000\n",
      "1 : COM4 \tStandard Serial over Bluetooth link (COM4)\t BTHENUM\\{00001101-0000-1000-8000-00805F9B34FB}_LOCALMFG&0046\\8&1851824A&0&B038E239BA1E_C00000000\n"
     ]
    }
   ],
   "source": [
    "controller.get_port()"
   ]
  },
  {
   "cell_type": "code",
   "execution_count": 3,
   "id": "f54a6009",
   "metadata": {},
   "outputs": [],
   "source": [
    "arm_rob = controller.ARM_ROBOT(\"COM4\")"
   ]
  },
  {
   "cell_type": "code",
   "execution_count": 4,
   "id": "a0eb8ffa",
   "metadata": {},
   "outputs": [
    {
     "data": {
      "text/plain": [
       "[120.89168640717413, 115.781445672786]"
      ]
     },
     "execution_count": 4,
     "metadata": {},
     "output_type": "execute_result"
    }
   ],
   "source": [
    "ik = arm_rob.inverse_kinematics(-140,234,90)\n",
    "ik"
   ]
  },
  {
   "cell_type": "code",
   "execution_count": 5,
   "id": "b43721bf",
   "metadata": {},
   "outputs": [
    {
     "ename": "UnicodeDecodeError",
     "evalue": "'utf-8' codec can't decode byte 0xbe in position 0: invalid start byte",
     "output_type": "error",
     "traceback": [
      "\u001b[1;31m---------------------------------------------------------------------------\u001b[0m",
      "\u001b[1;31mUnicodeDecodeError\u001b[0m                        Traceback (most recent call last)",
      "Cell \u001b[1;32mIn[5], line 1\u001b[0m\n\u001b[1;32m----> 1\u001b[0m \u001b[43marm_rob\u001b[49m\u001b[38;5;241;43m.\u001b[39;49m\u001b[43mwrite\u001b[49m\u001b[43m(\u001b[49m\u001b[38;5;124;43mf\u001b[39;49m\u001b[38;5;124;43m\"\u001b[39;49m\u001b[38;5;132;43;01m{\u001b[39;49;00m\u001b[43mik\u001b[49m\u001b[43m[\u001b[49m\u001b[38;5;241;43m0\u001b[39;49m\u001b[43m]\u001b[49m\u001b[38;5;132;43;01m}\u001b[39;49;00m\u001b[38;5;124;43m,\u001b[39;49m\u001b[38;5;132;43;01m{\u001b[39;49;00m\u001b[43mik\u001b[49m\u001b[43m[\u001b[49m\u001b[38;5;241;43m0\u001b[39;49m\u001b[43m]\u001b[49m\u001b[38;5;132;43;01m}\u001b[39;49;00m\u001b[38;5;124;43m\"\u001b[39;49m\u001b[43m)\u001b[49m\n",
      "File \u001b[1;32mD:\\Kuliah\\PKL\\PROG\\GITHUB\\Robot-Home\\openRb\\arm_controller\\controller.py:30\u001b[0m, in \u001b[0;36mARM_ROBOT.write\u001b[1;34m(self, data, get_feedback)\u001b[0m\n\u001b[0;32m     28\u001b[0m \u001b[38;5;28;01mif\u001b[39;00m get_feedback:\n\u001b[0;32m     29\u001b[0m     res \u001b[38;5;241m=\u001b[39m \u001b[38;5;28mself\u001b[39m\u001b[38;5;241m.\u001b[39mser\u001b[38;5;241m.\u001b[39mreadline()\n\u001b[1;32m---> 30\u001b[0m     \u001b[38;5;28;01mreturn\u001b[39;00m \u001b[43mres\u001b[49m\u001b[38;5;241;43m.\u001b[39;49m\u001b[43mdecode\u001b[49m\u001b[43m(\u001b[49m\u001b[43m)\u001b[49m\n\u001b[0;32m     31\u001b[0m \u001b[38;5;28;01melse\u001b[39;00m:\n\u001b[0;32m     32\u001b[0m     \u001b[38;5;28;01mreturn\u001b[39;00m \u001b[38;5;28;01mNone\u001b[39;00m\n",
      "\u001b[1;31mUnicodeDecodeError\u001b[0m: 'utf-8' codec can't decode byte 0xbe in position 0: invalid start byte"
     ]
    }
   ],
   "source": [
    "arm_rob.write(f\"{ik[0]},{ik[0]}\")"
   ]
  },
  {
   "cell_type": "code",
   "execution_count": null,
   "id": "07cd8102",
   "metadata": {},
   "outputs": [],
   "source": [
    "arm_rob.close()"
   ]
  },
  {
   "cell_type": "code",
   "execution_count": null,
   "id": "cc8ddcfb",
   "metadata": {},
   "outputs": [],
   "source": []
  }
 ],
 "metadata": {
  "kernelspec": {
   "display_name": "Python [conda env:pklBrin] *",
   "language": "python",
   "name": "conda-env-pklBrin-py"
  },
  "language_info": {
   "codemirror_mode": {
    "name": "ipython",
    "version": 3
   },
   "file_extension": ".py",
   "mimetype": "text/x-python",
   "name": "python",
   "nbconvert_exporter": "python",
   "pygments_lexer": "ipython3",
   "version": "3.10.13"
  }
 },
 "nbformat": 4,
 "nbformat_minor": 5
}
